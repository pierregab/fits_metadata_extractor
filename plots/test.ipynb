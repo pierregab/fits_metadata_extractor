{
 "cells": [
  {
   "cell_type": "code",
   "execution_count": 17,
   "metadata": {},
   "outputs": [],
   "source": [
    "import os\n",
    "import logging\n",
    "import pandas as pd\n",
    "import json\n",
    "\n",
    "# Import the necessary classes and functions from the new structure\n",
    "from fits_metadata_extractor.processor import FITSProcessor\n",
    "from fits_metadata_extractor.utils import save_metadata_to_csv, load_metadata_from_csv\n",
    "from fits_metadata_extractor.search import search_fits_by_point, search_fits_by_region\n",
    "from fits_metadata_extractor.plotter import plot_moc_and_polygon_from_dataset_notebook\n",
    "\n",
    "# Configure logging to display INFO level messages\n",
    "logging.basicConfig(level=logging.INFO, format='%(asctime)s - %(levelname)s - %(message)s')\n"
   ]
  },
  {
   "cell_type": "code",
   "execution_count": 18,
   "metadata": {},
   "outputs": [
    {
     "name": "stderr",
     "output_type": "stream",
     "text": [
      "2024-10-23 15:16:52,403 - INFO - Starting processing of FITS files.\n",
      "2024-10-23 15:16:52,418 - INFO - Processing file: fits_collection/G327.617-0.364_I4.fits\n",
      "2024-10-23 15:16:52,419 - INFO - Processing file: fits_collection/SN1987A_cut_35_smHB.fits\n",
      "2024-10-23 15:16:52,419 - INFO - Processing file: fits_collection/G351.702+0.672_atlasgal.fits\n",
      "2024-10-23 15:16:52,419 - INFO - Processing file: fits_collection/5GHz_n_f.fits\n",
      "2024-10-23 15:16:52,420 - INFO - Processing file: fits_collection/G351.632-0.459_atlasgal.fits\n",
      "2024-10-23 15:16:52,505 - INFO - Inferred object name 'G327.617-0.364' for file 'fits_collection/G327.617-0.364_I4.fits'.\n",
      "\u001b[92m2024-10-23 15:16:52,513 - INFO - Successfully processed 'fits_collection/SN1987A_cut_35_smHB.fits'. Resolved using VizieR: 'SNR1987A'. MOC Details - Sky Fraction: 0.000000, Number of Cells: 3, Max Order: 10. Polygon: POLYGON ((83.98078838261291 -69.31003927205, 83.75255161738708 -69.31003927205, 83.75297519652439 -69.22940072795001, 83.98036480347561 -69.22940072795001, 83.98078838261291 -69.31003927205)).\u001b[0m\n",
      "2024-10-23 15:16:52,518 - INFO - Inferred object name 'G351.702' for file 'fits_collection/G351.702+0.672_atlasgal.fits'.\n",
      "\u001b[92m2024-10-23 15:16:52,520 - INFO - Successfully processed 'fits_collection/G327.617-0.364_I4.fits'. Resolved using VizieR: 'G327.617-0.364'. MOC Details - Sky Fraction: 0.000001, Number of Cells: 11, Max Order: 10. Polygon: POLYGON ((327.7141602095 -0.4191667505, 327.5158268365 -0.4191667505, 327.5158268365 -0.3091667285, 327.7141602095 -0.3091667285, 327.7141602095 -0.4191667505)).\u001b[0m\n",
      "2024-10-23 15:16:52,521 - INFO - Inferred object name 'G351.632-0.459' for file 'fits_collection/G351.632-0.459_atlasgal.fits'.\n",
      "2024-10-23 15:16:52,523 - INFO - Extracted RA_WCS: 83.86667, DEC_WCS: -69.26972 for fits_collection/SN1987A_cut_35_smHB.fits.\n",
      "2024-10-23 15:16:52,523 - INFO - Extracted GLON_WCS: 327.614993523, GLAT_WCS: -0.3641667395 for fits_collection/G327.617-0.364_I4.fits.\n",
      "\u001b[92m2024-10-23 15:16:52,525 - INFO - Successfully processed 'fits_collection/G351.702+0.672_atlasgal.fits'. Resolved using Unknown: 'Unknown'. MOC Details - Sky Fraction: 0.000002, Number of Cells: 19, Max Order: 10. Polygon: POLYGON ((351.8408317015 0.6008334535, 351.5524983105 0.6008334535, 351.5524983105 0.7608334855, 351.8408317015 0.7608334855, 351.8408317015 0.6008334535)).\u001b[0m\n",
      "\u001b[92m2024-10-23 15:16:52,548 - INFO - Successfully processed 'fits_collection/G351.632-0.459_atlasgal.fits'. Resolved using VizieR: 'G351.632-0.459'. MOC Details - Sky Fraction: 0.000001, Number of Cells: 8, Max Order: 10. Polygon: POLYGON ((351.7458316825 -0.5191667704999999, 351.5408316415 -0.5191667704999999, 351.5408316415 -0.4058334145, 351.7458316825 -0.4058334145, 351.7458316825 -0.5191667704999999)).\u001b[0m\n",
      "\u001b[92m2024-10-23 15:16:52,554 - INFO - Successfully processed 'fits_collection/5GHz_n_f.fits'. Resolved using Unknown: 'Unknown'. MOC Details - Sky Fraction: 0.000000, Number of Cells: 1, Max Order: 10. Polygon: POLYGON ((84.72666731996323 -69.13945793625412, 84.7030312755644 -69.13945790413119, 84.70303591953338 -69.13104123761946, 84.72666285634249 -69.13104126973, 84.72666731996323 -69.13945793625412)).\u001b[0m\n",
      "2024-10-23 15:16:52,555 - INFO - Processing file: fits_collection/UGC_09618_S_2MASS_H.fits\n",
      "2024-10-23 15:16:52,555 - INFO - Processing file: fits_collection/UGC_09618_2MASS_H.fits\n",
      "2024-10-23 15:16:52,556 - INFO - Extracted GLON_WCS: 351.696665006, GLAT_WCS: 0.6808334695 for fits_collection/G351.702+0.672_atlasgal.fits.\n",
      "2024-10-23 15:16:52,556 - INFO - Extracted GLON_WCS: 351.643331662, GLAT_WCS: -0.46250009249999996 for fits_collection/G351.632-0.459_atlasgal.fits.\n",
      "2024-10-23 15:16:52,557 - INFO - Extracted RA_WCS: 84.71484934285212, DEC_WCS: -69.13524999240765 for fits_collection/5GHz_n_f.fits.\n",
      "2024-10-23 15:16:52,558 - INFO - Processing file: fits_collection/SNaverage5-0.fits\n",
      "2024-10-23 15:16:52,559 - INFO - Inferred object name 'UGC' for file 'fits_collection/UGC_09618_S_2MASS_H.fits'.\n",
      "2024-10-23 15:16:52,560 - INFO - Processing file: fits_collection/2013.1.01292.S_SB_X4eb_GB_X4ec_MB_X4ed_2-38011_sci.spw0_1_2_3.cont.I.image.fits\n",
      "2024-10-23 15:16:52,560 - INFO - Inferred object name 'UGC' for file 'fits_collection/UGC_09618_2MASS_H.fits'.\n",
      "2024-10-23 15:16:52,561 - INFO - Processing file: fits_collection/N2.20100426.52760.fits\n",
      "\u001b[92m2024-10-23 15:16:52,565 - INFO - Successfully processed 'fits_collection/UGC_09618_S_2MASS_H.fits'. Resolved using Unknown: 'Unknown'. MOC Details - Sky Fraction: 0.000004, Number of Cells: 26, Max Order: 10. Polygon: POLYGON ((224.30832666152753 24.322796352792704, 224.14402273847247 24.322796352792704, 224.14363977003902 24.90445743723609, 224.308709629961 24.90445743723609, 224.30832666152753 24.322796352792704)).\u001b[0m\n",
      "\u001b[92m2024-10-23 15:16:52,569 - INFO - Successfully processed 'fits_collection/UGC_09618_2MASS_H.fits'. Resolved using Unknown: 'Unknown'. MOC Details - Sky Fraction: 0.000004, Number of Cells: 26, Max Order: 10. Polygon: POLYGON ((224.30832666152753 24.322796352792704, 224.14402273847247 24.322796352792704, 224.14363977003902 24.90445743723609, 224.308709629961 24.90445743723609, 224.30832666152753 24.322796352792704)).\u001b[0m\n",
      "\u001b[92m2024-10-23 15:16:52,582 - INFO - Successfully processed 'fits_collection/SNaverage5-0.fits'. Resolved using VizieR: 'SNR1987A'. MOC Details - Sky Fraction: 0.000000, Number of Cells: 3, Max Order: 10. Polygon: POLYGON ((83.96216077193111 -69.30305555555553, 83.7723515009734 -69.30305555555553, 83.7726428162207 -69.2359722222222, 83.96186581524327 -69.2359722222222, 83.96216077193111 -69.30305555555553)).\u001b[0m\n",
      "\u001b[92m2024-10-23 15:16:52,588 - INFO - Successfully processed 'fits_collection/2013.1.01292.S_SB_X4eb_GB_X4ec_MB_X4ed_2-38011_sci.spw0_1_2_3.cont.I.image.fits'. Resolved using Unknown: 'Unknown'. MOC Details - Sky Fraction: 0.000000, Number of Cells: 2, Max Order: 10. Polygon: POLYGON ((150.1150155371495 2.5204941600668986, 150.10675754799556 2.520494160163891, 150.10675752187876 2.528744160170992, 150.11501556346047 2.5287441600740106, 150.1150155371495 2.5204941600668986)).\u001b[0m\n",
      "2024-10-23 15:16:52,588 - INFO - Extracted RA_WCS: 224.2261747, DEC_WCS: 24.61364929999999 for fits_collection/UGC_09618_S_2MASS_H.fits.\n",
      "2024-10-23 15:16:52,589 - INFO - Extracted RA_WCS: 224.2261747, DEC_WCS: 24.61364929999999 for fits_collection/UGC_09618_2MASS_H.fits.\n",
      "2024-10-23 15:16:52,601 - INFO - Extracted RA_WCS: 83.86725522458315, DEC_WCS: -69.26951388888885 for fits_collection/SNaverage5-0.fits.\n",
      "\u001b[92m2024-10-23 15:16:52,601 - INFO - Successfully processed 'fits_collection/N2.20100426.52760.fits'. Resolved using Unknown: 'Unknown'. MOC Details - Sky Fraction: 0.000000, Number of Cells: 1, Max Order: 10. Polygon: POLYGON ((245.48389331567262 -20.72286080192529, 245.48238002853103 -20.722854576681225, 245.48238669139835 -20.72143919479691, 245.48389996439798 -20.7214454199828, 245.48389331567262 -20.72286080192529)).\u001b[0m\n",
      "2024-10-23 15:16:52,602 - INFO - Extracted RA_WCS: 150.11088654262102, DEC_WCS: 2.524619166666135 for fits_collection/2013.1.01292.S_SB_X4eb_GB_X4ec_MB_X4ed_2-38011_sci.spw0_1_2_3.cont.I.image.fits.\n",
      "2024-10-23 15:16:52,603 - INFO - Processing file: fits_collection/NGC_4486_MIPS_M1.fits\n",
      "2024-10-23 15:16:52,603 - INFO - Processing file: fits_collection/av_galcen_2mass.fits\n",
      "2024-10-23 15:16:52,604 - INFO - Processing file: fits_collection/id12_GAL-Survey-GC.fpsf.fits\n",
      "2024-10-23 15:16:52,604 - INFO - Extracted RA_WCS: 245.48314, DEC_WCS: -20.72215 for fits_collection/N2.20100426.52760.fits.\n",
      "2024-10-23 15:16:52,605 - INFO - Processing file: fits_collection/SN1987A_87_smHB.fits\n",
      "2024-10-23 15:16:52,630 - INFO - Inferred object name 'id12' for file 'fits_collection/id12_GAL-Survey-GC.fpsf.fits'.\n",
      "\u001b[92m2024-10-23 15:16:52,633 - INFO - Successfully processed 'fits_collection/NGC_4486_MIPS_M1.fits'. Resolved using Unknown: 'Unknown'. MOC Details - Sky Fraction: 0.000018, Number of Cells: 90, Max Order: 10. Polygon: POLYGON ((187.47777580413705 11.471189399348724, 187.2141455382065 11.57841734224368, 188.01807617563932 13.463669558462998, 188.28324439567785 13.355678936359176, 187.47777580413705 11.471189399348724)).\u001b[0m\n",
      "2024-10-23 15:16:52,637 - INFO - Inferred object name 'av' for file 'fits_collection/av_galcen_2mass.fits'.\n",
      "2024-10-23 15:16:52,641 - INFO - Processing file: fits_collection/av_galcen_spitzer.fits\n",
      "\u001b[92m2024-10-23 15:16:52,664 - INFO - Successfully processed 'fits_collection/id12_GAL-Survey-GC.fpsf.fits'. Resolved using Unknown: 'Unknown'. MOC Details - Sky Fraction: 0.067794, Number of Cells: 4034, Max Order: 10. Polygon: POLYGON ((34.933335155456 -17.933334268736, 324.9999981744 -17.933334268736, 324.9999981744 18.00000093888, 34.933335155456 18.00000093888, 34.933335155456 -17.933334268736)).\u001b[0m\n",
      "2024-10-23 15:16:52,666 - INFO - Extracted RA_WCS: 187.74691322832936, DEC_WCS: 12.467659296574459 for fits_collection/NGC_4486_MIPS_M1.fits.\n",
      "\u001b[92m2024-10-23 15:16:52,678 - INFO - Successfully processed 'fits_collection/SN1987A_87_smHB.fits'. Resolved using Simbad: 'SN 1987A'. MOC Details - Sky Fraction: 0.000004, Number of Cells: 21, Max Order: 10. Polygon: POLYGON ((84.3173092857228 -69.45067849200001, 83.4160307142772 -69.45067849200001, 83.42348958848474 -69.088761508, 84.30985041151526 -69.088761508, 84.3173092857228 -69.45067849200001)).\u001b[0m\n",
      "\u001b[92m2024-10-23 15:16:52,681 - INFO - Successfully processed 'fits_collection/av_galcen_2mass.fits'. Resolved using Unknown: 'Unknown'. MOC Details - Sky Fraction: 0.000169, Number of Cells: 255, Max Order: 10. Polygon: POLYGON ((267.78736491517896 -30.278549885775647, 265.00936689128497 -30.278142689934317, 265.0460054752501 -27.546134398469633, 267.7517289947569 -27.546498168041428, 267.78736491517896 -30.278549885775647)).\u001b[0m\n",
      "2024-10-23 15:16:52,683 - INFO - Extracted GLON_WCS: 359.966666664928, GLAT_WCS: 0.033333335072 for fits_collection/id12_GAL-Survey-GC.fpsf.fits.\n",
      "2024-10-23 15:16:52,684 - INFO - Processing file: fits_collection/2013.1.00034.S_SB_X5_GB_X6_MB_X7_midz_cell10_25342_sci.spw0_1_2_3.cont.I.image.fits\n",
      "2024-10-23 15:16:52,685 - INFO - Inferred object name 'av' for file 'fits_collection/av_galcen_spitzer.fits'.\n",
      "2024-10-23 15:16:52,685 - INFO - Extracted RA_WCS: 83.86667, DEC_WCS: -69.26972 for fits_collection/SN1987A_87_smHB.fits.\n",
      "2024-10-23 15:16:52,686 - INFO - Extracted RA_WCS: 266.3986089730605, DEC_WCS: -28.91926301125171 for fits_collection/av_galcen_2mass.fits.\n",
      "\u001b[92m2024-10-23 15:16:52,692 - INFO - Successfully processed 'fits_collection/av_galcen_spitzer.fits'. Resolved using Unknown: 'Unknown'. MOC Details - Sky Fraction: 0.000166, Number of Cells: 229, Max Order: 10. Polygon: POLYGON ((267.78718161103103 -30.190475586624736, 265.0116341916512 -30.19006981604887, 265.04727937434296 -27.524670707324933, 267.752511907322 -27.525034154695774, 267.78718161103103 -30.190475586624736)).\u001b[0m\n",
      "\u001b[92m2024-10-23 15:16:52,700 - INFO - Successfully processed 'fits_collection/2013.1.00034.S_SB_X5_GB_X6_MB_X7_midz_cell10_25342_sci.spw0_1_2_3.cont.I.image.fits'. Resolved using Unknown: 'Unknown'. MOC Details - Sky Fraction: 0.000000, Number of Cells: 1, Max Order: 10. Polygon: POLYGON ((149.6574563920478 1.7191108290945414, 149.64945278969537 1.7191108291645532, 149.6494527729563 1.7271108291710382, 149.65745640892698 1.727110829101036, 149.6574563920478 1.7191108290945414)).\u001b[0m\n",
      "2024-10-23 15:16:52,700 - INFO - Extracted RA_WCS: 266.3996440174536, DEC_WCS: -28.864479014275368 for fits_collection/av_galcen_spitzer.fits.\n",
      "2024-10-23 15:16:52,701 - INFO - Extracted RA_WCS: 149.65345459090653, DEC_WCS: 1.7231108333332557 for fits_collection/2013.1.00034.S_SB_X5_GB_X6_MB_X7_midz_cell10_25342_sci.spw0_1_2_3.cont.I.image.fits.\n",
      "2024-10-23 15:16:52,709 - INFO - Missing values after homogenization:\n",
      "FITS_File           0\n",
      "Polygon             0\n",
      "MOC                 0\n",
      "Polygon_Coords      0\n",
      "RA_WCS              4\n",
      "DEC_WCS             4\n",
      "NAXIS               0\n",
      "NAXIS1              0\n",
      "NAXIS2              0\n",
      "OBJECT              8\n",
      "RA                 15\n",
      "DEC                15\n",
      "RADESYS             0\n",
      "DATE-OBS           13\n",
      "MJD-OBS            15\n",
      "EXPTIME            13\n",
      "INSTRUME           11\n",
      "TELESCOP            8\n",
      "JD                 16\n",
      "Resolved_Object     0\n",
      "GLON_WCS           12\n",
      "GLAT_WCS           12\n",
      "NAXIS3             13\n",
      "NAXIS4             13\n",
      "dtype: int64\n",
      "2024-10-23 15:16:52,710 - INFO - Finished processing FITS files.\n"
     ]
    }
   ],
   "source": [
    "# Specify the directory containing FITS files\n",
    "fits_directory = \"fits_collection\"  # <-- CHANGE THIS PATH to your FITS files directory\n",
    "output_csv = 'metadata.csv'\n",
    "plot_output_dir = 'plots'  # Directory where plots will be saved\n",
    "\n",
    "# Check if the FITS directory exists\n",
    "if not os.path.isdir(fits_directory):\n",
    "    logging.error(f\"The specified FITS directory does not exist: {fits_directory}\")\n",
    "else:\n",
    "    # Process FITS files using parallel processing\n",
    "    logging.info(\"Starting processing of FITS files.\")\n",
    "    metadata_df = process_fits_directory_parallel(fits_directory, max_workers=5)\n",
    "    logging.info(\"Finished processing FITS files.\")\n"
   ]
  },
  {
   "cell_type": "code",
   "execution_count": 19,
   "metadata": {},
   "outputs": [
    {
     "name": "stderr",
     "output_type": "stream",
     "text": [
      "2024-10-23 15:16:56,108 - INFO - Metadata successfully saved to metadata.csv.\n",
      "2024-10-23 15:16:56,109 - INFO - Metadata saved to metadata.csv.\n"
     ]
    }
   ],
   "source": [
    "# Save the metadata to CSV\n",
    "save_metadata_to_csv(metadata_df, output_csv)\n",
    "logging.info(f\"Metadata saved to {output_csv}.\")\n"
   ]
  },
  {
   "cell_type": "code",
   "execution_count": 20,
   "metadata": {},
   "outputs": [
    {
     "name": "stderr",
     "output_type": "stream",
     "text": [
      "2024-10-23 15:16:58,761 - INFO - Starting plotting of MOCs and polygons.\n",
      "2024-10-23 15:16:58,762 - INFO - Plots will be saved to: plots\n",
      "2024-10-23 15:16:58,762 - INFO - No specific selection criteria provided. All FITS files will be plotted.\n",
      "2024-10-23 15:16:58,763 - INFO - Generating 2 plots.\n"
     ]
    },
    {
     "data": {
      "application/vnd.jupyter.widget-view+json": {
       "model_id": "0ad6e940be714c828c26ccd9a0f9c336",
       "version_major": 2,
       "version_minor": 0
      },
      "text/plain": [
       "Generating Plots:   0%|          | 0/2 [00:00<?, ?it/s]"
      ]
     },
     "metadata": {},
     "output_type": "display_data"
    },
    {
     "name": "stderr",
     "output_type": "stream",
     "text": [
      "2024-10-23 15:16:58,796 - INFO - Calling _reproject_full in non-dask mode\n",
      "2024-10-23 15:17:00,115 - INFO - Plot saved as SN1987A_cut_35_smHB.png\n",
      "2024-10-23 15:17:00,116 - INFO - Plot saved: plots/SN1987A_cut_35_smHB.png\n",
      "2024-10-23 15:17:00,138 - INFO - Calling _reproject_full in non-dask mode\n",
      "2024-10-23 15:17:01,323 - INFO - Plot saved as G327.617-0.364_I4.png\n",
      "2024-10-23 15:17:01,323 - INFO - Plot saved: plots/G327.617-0.364_I4.png\n",
      "2024-10-23 15:17:01,324 - INFO - Finished plotting of MOCs and polygons.\n"
     ]
    }
   ],
   "source": [
    "# Plotting all FITS files with a limit for testing purposes\n",
    "try:\n",
    "    logging.info(\"Starting plotting of MOCs and polygons.\")\n",
    "    plot_moc_and_polygon_from_dataset_notebook(\n",
    "        metadata_df=metadata_df,\n",
    "        input_dir=fits_directory,\n",
    "        output_dir=plot_output_dir,\n",
    "        max_plots=2  # Adjust as needed; set to None to plot all\n",
    "    )\n",
    "    logging.info(\"Finished plotting of MOCs and polygons.\")\n",
    "except Exception as e:\n",
    "    logging.error(f\"Error occurred during plotting: {e}\")\n"
   ]
  },
  {
   "cell_type": "code",
   "execution_count": 21,
   "metadata": {},
   "outputs": [
    {
     "name": "stderr",
     "output_type": "stream",
     "text": [
      "2024-10-23 15:17:11,820 - INFO - Testing search by point: RA=150.0, Dec=2.2\n",
      "2024-10-23 15:17:11,825 - INFO - FITS files containing the point (RA=150.0, Dec=2.2):\n"
     ]
    },
    {
     "data": {
      "text/html": [
       "<div>\n",
       "<style scoped>\n",
       "    .dataframe tbody tr th:only-of-type {\n",
       "        vertical-align: middle;\n",
       "    }\n",
       "\n",
       "    .dataframe tbody tr th {\n",
       "        vertical-align: top;\n",
       "    }\n",
       "\n",
       "    .dataframe thead th {\n",
       "        text-align: right;\n",
       "    }\n",
       "</style>\n",
       "<table border=\"1\" class=\"dataframe\">\n",
       "  <thead>\n",
       "    <tr style=\"text-align: right;\">\n",
       "      <th></th>\n",
       "      <th>FITS_File</th>\n",
       "      <th>Resolved_Object</th>\n",
       "    </tr>\n",
       "  </thead>\n",
       "  <tbody>\n",
       "    <tr>\n",
       "      <th>11</th>\n",
       "      <td>id12_GAL-Survey-GC.fpsf.fits</td>\n",
       "      <td>Unknown</td>\n",
       "    </tr>\n",
       "  </tbody>\n",
       "</table>\n",
       "</div>"
      ],
      "text/plain": [
       "                       FITS_File Resolved_Object\n",
       "11  id12_GAL-Survey-GC.fpsf.fits         Unknown"
      ]
     },
     "metadata": {},
     "output_type": "display_data"
    }
   ],
   "source": [
    "# Define test inputs for search by point\n",
    "test_point = {\n",
    "    'ra': 150.0,  # Right Ascension in degrees\n",
    "    'dec': 2.2    # Declination in degrees\n",
    "}\n",
    "\n",
    "logging.info(f\"Testing search by point: RA={test_point['ra']}, Dec={test_point['dec']}\")\n",
    "matching_fits_by_point = search_fits_by_point(metadata_df, test_point['ra'], test_point['dec'])\n",
    "\n",
    "if not matching_fits_by_point.empty:\n",
    "    logging.info(f\"FITS files containing the point (RA={test_point['ra']}, Dec={test_point['dec']}):\")\n",
    "    display(matching_fits_by_point[['FITS_File', 'Resolved_Object']])\n",
    "else:\n",
    "    logging.info(\"No FITS files found containing the specified point.\")\n"
   ]
  },
  {
   "cell_type": "code",
   "execution_count": 22,
   "metadata": {},
   "outputs": [
    {
     "name": "stderr",
     "output_type": "stream",
     "text": [
      "2024-10-23 15:17:22,870 - INFO - Testing search by circular region: Center RA=150.0, Dec=2.2, Radius=1.0 degrees\n",
      "2024-10-23 15:17:22,876 - INFO - FITS files intersecting the circular region (RA=150.0, Dec=2.2, Radius=1.0 degrees):\n"
     ]
    },
    {
     "data": {
      "text/html": [
       "<div>\n",
       "<style scoped>\n",
       "    .dataframe tbody tr th:only-of-type {\n",
       "        vertical-align: middle;\n",
       "    }\n",
       "\n",
       "    .dataframe tbody tr th {\n",
       "        vertical-align: top;\n",
       "    }\n",
       "\n",
       "    .dataframe thead th {\n",
       "        text-align: right;\n",
       "    }\n",
       "</style>\n",
       "<table border=\"1\" class=\"dataframe\">\n",
       "  <thead>\n",
       "    <tr style=\"text-align: right;\">\n",
       "      <th></th>\n",
       "      <th>FITS_File</th>\n",
       "      <th>Resolved_Object</th>\n",
       "    </tr>\n",
       "  </thead>\n",
       "  <tbody>\n",
       "    <tr>\n",
       "      <th>8</th>\n",
       "      <td>2013.1.01292.S_SB_X4eb_GB_X4ec_MB_X4ed_2-38011...</td>\n",
       "      <td>Unknown</td>\n",
       "    </tr>\n",
       "    <tr>\n",
       "      <th>11</th>\n",
       "      <td>id12_GAL-Survey-GC.fpsf.fits</td>\n",
       "      <td>Unknown</td>\n",
       "    </tr>\n",
       "    <tr>\n",
       "      <th>15</th>\n",
       "      <td>2013.1.00034.S_SB_X5_GB_X6_MB_X7_midz_cell10_2...</td>\n",
       "      <td>Unknown</td>\n",
       "    </tr>\n",
       "  </tbody>\n",
       "</table>\n",
       "</div>"
      ],
      "text/plain": [
       "                                            FITS_File Resolved_Object\n",
       "8   2013.1.01292.S_SB_X4eb_GB_X4ec_MB_X4ed_2-38011...         Unknown\n",
       "11                       id12_GAL-Survey-GC.fpsf.fits         Unknown\n",
       "15  2013.1.00034.S_SB_X5_GB_X6_MB_X7_midz_cell10_2...         Unknown"
      ]
     },
     "metadata": {},
     "output_type": "display_data"
    }
   ],
   "source": [
    "# Define test inputs for search by circular region\n",
    "test_circle = {\n",
    "    'type': 'circle',\n",
    "    'center': (150.0, 2.2),  # Center RA and Dec in degrees\n",
    "    'radius': 1.0             # Radius in degrees\n",
    "}\n",
    "\n",
    "logging.info(f\"Testing search by circular region: Center RA={test_circle['center'][0]}, Dec={test_circle['center'][1]}, Radius={test_circle['radius']} degrees\")\n",
    "matching_fits_by_circle = search_fits_by_region(metadata_df, test_circle)\n",
    "\n",
    "if not matching_fits_by_circle.empty:\n",
    "    logging.info(f\"FITS files intersecting the circular region (RA={test_circle['center'][0]}, Dec={test_circle['center'][1]}, Radius={test_circle['radius']} degrees):\")\n",
    "    display(matching_fits_by_circle[['FITS_File', 'Resolved_Object']])\n",
    "else:\n",
    "    logging.info(\"No FITS files found intersecting the specified circular region.\")\n"
   ]
  },
  {
   "cell_type": "code",
   "execution_count": 23,
   "metadata": {},
   "outputs": [
    {
     "name": "stderr",
     "output_type": "stream",
     "text": [
      "2024-10-23 15:17:25,106 - INFO - Testing search by polygonal region with coordinates: [(149.0, 1.0), (151.0, 1.0), (151.0, 3.0), (149.0, 3.0)]\n",
      "2024-10-23 15:17:25,110 - INFO - FITS files intersecting the polygonal region:\n"
     ]
    },
    {
     "data": {
      "text/html": [
       "<div>\n",
       "<style scoped>\n",
       "    .dataframe tbody tr th:only-of-type {\n",
       "        vertical-align: middle;\n",
       "    }\n",
       "\n",
       "    .dataframe tbody tr th {\n",
       "        vertical-align: top;\n",
       "    }\n",
       "\n",
       "    .dataframe thead th {\n",
       "        text-align: right;\n",
       "    }\n",
       "</style>\n",
       "<table border=\"1\" class=\"dataframe\">\n",
       "  <thead>\n",
       "    <tr style=\"text-align: right;\">\n",
       "      <th></th>\n",
       "      <th>FITS_File</th>\n",
       "      <th>Resolved_Object</th>\n",
       "    </tr>\n",
       "  </thead>\n",
       "  <tbody>\n",
       "    <tr>\n",
       "      <th>8</th>\n",
       "      <td>2013.1.01292.S_SB_X4eb_GB_X4ec_MB_X4ed_2-38011...</td>\n",
       "      <td>Unknown</td>\n",
       "    </tr>\n",
       "    <tr>\n",
       "      <th>11</th>\n",
       "      <td>id12_GAL-Survey-GC.fpsf.fits</td>\n",
       "      <td>Unknown</td>\n",
       "    </tr>\n",
       "    <tr>\n",
       "      <th>15</th>\n",
       "      <td>2013.1.00034.S_SB_X5_GB_X6_MB_X7_midz_cell10_2...</td>\n",
       "      <td>Unknown</td>\n",
       "    </tr>\n",
       "  </tbody>\n",
       "</table>\n",
       "</div>"
      ],
      "text/plain": [
       "                                            FITS_File Resolved_Object\n",
       "8   2013.1.01292.S_SB_X4eb_GB_X4ec_MB_X4ed_2-38011...         Unknown\n",
       "11                       id12_GAL-Survey-GC.fpsf.fits         Unknown\n",
       "15  2013.1.00034.S_SB_X5_GB_X6_MB_X7_midz_cell10_2...         Unknown"
      ]
     },
     "metadata": {},
     "output_type": "display_data"
    }
   ],
   "source": [
    "# Define test inputs for search by polygonal region\n",
    "test_polygon = {\n",
    "    'type': 'polygon',\n",
    "    'coordinates': [\n",
    "        (149.0, 1.0),\n",
    "        (151.0, 1.0),\n",
    "        (151.0, 3.0),\n",
    "        (149.0, 3.0)\n",
    "    ]\n",
    "}\n",
    "\n",
    "logging.info(f\"Testing search by polygonal region with coordinates: {test_polygon['coordinates']}\")\n",
    "matching_fits_by_polygon = search_fits_by_region(metadata_df, test_polygon)\n",
    "\n",
    "if not matching_fits_by_polygon.empty:\n",
    "    logging.info(\"FITS files intersecting the polygonal region:\")\n",
    "    display(matching_fits_by_polygon[['FITS_File', 'Resolved_Object']])\n",
    "else:\n",
    "    logging.info(\"No FITS files found intersecting the specified polygonal region.\")\n"
   ]
  }
 ],
 "metadata": {
  "kernelspec": {
   "display_name": "OHP",
   "language": "python",
   "name": "python3"
  },
  "language_info": {
   "codemirror_mode": {
    "name": "ipython",
    "version": 3
   },
   "file_extension": ".py",
   "mimetype": "text/x-python",
   "name": "python",
   "nbconvert_exporter": "python",
   "pygments_lexer": "ipython3",
   "version": "3.12.5"
  }
 },
 "nbformat": 4,
 "nbformat_minor": 2
}
