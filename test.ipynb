{
 "cells": [
  {
   "cell_type": "code",
   "execution_count": 1,
   "metadata": {},
   "outputs": [],
   "source": [
    "import os\n",
    "import logging\n",
    "import pandas as pd\n",
    "import matplotlib.pyplot as plt\n",
    "\n",
    "# Import classes and functions from the fits_metadata_extractor package\n",
    "from fits_metadata_extractor.processor import FITSProcessor\n",
    "from fits_metadata_extractor.utils import save_metadata_to_csv, load_metadata_from_csv\n",
    "from fits_metadata_extractor.search import search_fits_by_point, search_fits_by_region\n",
    "from fits_metadata_extractor.plotter import plot_moc_and_polygon_from_dataset_notebook, test, plot_search_region_and_find_fits\n",
    "from fits_metadata_extractor.logger import setup_logging\n"
   ]
  },
  {
   "cell_type": "code",
   "execution_count": 2,
   "metadata": {},
   "outputs": [],
   "source": [
    "# Initialize and configure logging\n",
    "logger = setup_logging()\n"
   ]
  },
  {
   "cell_type": "code",
   "execution_count": 3,
   "metadata": {},
   "outputs": [
    {
     "name": "stderr",
     "output_type": "stream",
     "text": [
      "2024-11-13 14:52:39,601 - INFO - FITS directory found: fits_collection\n"
     ]
    }
   ],
   "source": [
    "# Define the directory containing FITS files\n",
    "fits_directory = \"fits_collection\"  # <-- CHANGE THIS PATH TO YOUR TEST FITS FILES DIRECTORY\n",
    "\n",
    "# Define the output CSV file path\n",
    "output_csv = 'test_metadata.csv'\n",
    "\n",
    "# Define the directory to save plots\n",
    "plot_output_dir = 'test_plots'\n",
    "\n",
    "if not os.path.isdir(fits_directory):\n",
    "    logger.error(f\"The specified FITS directory does not exist: {fits_directory}\")\n",
    "else:\n",
    "    logger.info(f\"FITS directory found: {fits_directory}\")\n"
   ]
  },
  {
   "cell_type": "code",
   "execution_count": 4,
   "metadata": {},
   "outputs": [
    {
     "name": "stderr",
     "output_type": "stream",
     "text": [
      "2024-11-13 14:52:39,609 - INFO - Processing file: fits_collection/G327.617-0.364_I4.fits\n",
      "2024-11-13 14:52:39,609 - INFO - Processing file: fits_collection/SN1987A_cut_35_smHB.fits\n",
      "2024-11-13 14:52:39,610 - INFO - Processing file: fits_collection/G351.702+0.672_atlasgal.fits\n",
      "2024-11-13 14:52:39,610 - INFO - Processing file: fits_collection/5GHz_n_f.fits\n",
      "2024-11-13 14:52:39,611 - INFO - Processing file: fits_collection/G351.632-0.459_atlasgal.fits\n",
      "2024-11-13 14:52:39,613 - INFO - Inferred object name 'G327.617-0.364' for file 'fits_collection/G327.617-0.364_I4.fits'.\n",
      "2024-11-13 14:52:39,615 - INFO - Inferred object name 'G351.702' for file 'fits_collection/G351.702+0.672_atlasgal.fits'.\n",
      "2024-11-13 14:52:39,624 - INFO - Inferred object name 'G351.632-0.459' for file 'fits_collection/G351.632-0.459_atlasgal.fits'.\n",
      "2024-11-13 14:52:39,653 - ERROR - Unexpected error during NED query for 'SNR1987A': The remote service returned the following error message.\n",
      "ERROR: The object name that you have submitted is not currently recognized by the NED name interpreter.\n",
      "2024-11-13 14:52:39,653 - ERROR - Unexpected error during NED query for 'G351.702': The remote service returned the following error message.\n",
      "ERROR: The object name that you have submitted is not currently recognized by the NED name interpreter.\n",
      "2024-11-13 14:52:39,654 - ERROR - Unexpected error during NED query for 'r143': The remote service returned the following error message.\n",
      "ERROR: The object name that you have submitted is not currently recognized by the NED name interpreter.\n",
      "2024-11-13 14:52:39,654 - ERROR - Unexpected error during NED query for 'G351.632-0.459': The remote service returned the following error message.\n",
      "ERROR: The object name that you have submitted is not currently recognized by the NED name interpreter.\n",
      "2024-11-13 14:52:39,655 - ERROR - Unexpected error during NED query for 'G327.617-0.364': The remote service returned the following error message.\n",
      "ERROR: The object name that you have submitted is not currently recognized by the NED name interpreter.\n",
      "2024-11-13 14:52:39,744 - ERROR - Unexpected error during NED query for 'G351702': The remote service returned the following error message.\n",
      "ERROR: The object name that you have submitted is not currently recognized by the NED name interpreter.\n",
      "2024-11-13 14:52:39,758 - ERROR - Unexpected error during NED query for 'r143': The remote service returned the following error message.\n",
      "ERROR: The object name that you have submitted is not currently recognized by the NED name interpreter.\n",
      "2024-11-13 14:52:39,781 - ERROR - Unexpected error during NED query for 'SNr143': The remote service returned the following error message.\n",
      "ERROR: The object name that you have submitted is not currently recognized by the NED name interpreter.\n",
      "2024-11-13 14:52:39,782 - ERROR - Unexpected error during NED query for 'SNG351.702': The remote service returned the following error message.\n",
      "ERROR: The object name that you have submitted is not currently recognized by the NED name interpreter.\n",
      "2024-11-13 14:52:39,812 - ERROR - Unexpected error during NED query for 'G351.702SN': The remote service returned the following error message.\n",
      "ERROR: The object name that you have submitted is not currently recognized by the NED name interpreter.\n",
      "2024-11-13 14:52:39,813 - ERROR - Unexpected error during NED query for 'r143SN': The remote service returned the following error message.\n",
      "ERROR: The object name that you have submitted is not currently recognized by the NED name interpreter.\n",
      "2024-11-13 14:52:39,968 - ERROR - XML parsing failed for 'G351.702': not well-formed (invalid token): line 4, column 4\n",
      "2024-11-13 14:52:39,983 - INFO - Retrying (1/3)...\n",
      "2024-11-13 14:52:40,003 - ERROR - XML parsing failed for 'r143': not well-formed (invalid token): line 4, column 4\n",
      "2024-11-13 14:52:40,004 - INFO - Retrying (1/3)...\n",
      "2024-11-13 14:52:40,072 - ERROR - XML parsing failed for 'G351.702': not well-formed (invalid token): line 4, column 4\n",
      "2024-11-13 14:52:40,073 - INFO - Retrying (2/3)...\n",
      "2024-11-13 14:52:40,100 - ERROR - XML parsing failed for 'r143': not well-formed (invalid token): line 4, column 4\n",
      "2024-11-13 14:52:40,101 - INFO - Retrying (2/3)...\n",
      "2024-11-13 14:52:40,148 - ERROR - XML parsing failed for 'G351.702': not well-formed (invalid token): line 4, column 4\n",
      "2024-11-13 14:52:40,152 - INFO - Retrying (3/3)...\n",
      "2024-11-13 14:52:40,156 - ERROR - Failed to resolve 'G351.702' after 3 attempts.\n",
      "2024-11-13 14:52:40,161 - WARNING - No resolved name found for 'G351.702'.\n",
      "\u001b[92m2024-11-13 14:52:40,168 - INFO - Successfully processed 'fits_collection/G351.702+0.672_atlasgal.fits'. Resolved using Unknown: 'Unknown'. MOC Details - Sky Fraction: 0.000002, Number of Cells: 19, Max Order: 10. Polygon: POLYGON ((351.8408317015 0.6008334535, 351.5524983105 0.6008334535, 351.5524983105 0.7608334855, 351.8408317015 0.7608334855, 351.8408317015 0.6008334535)).\u001b[0m\n",
      "2024-11-13 14:52:40,169 - INFO - Extracted GLON_WCS: 351.696665006, GLAT_WCS: 0.6808334695 for fits_collection/G351.702+0.672_atlasgal.fits.\n",
      "2024-11-13 14:52:40,175 - INFO - Processing file: fits_collection/UGC_09618_S_2MASS_H.fits\n",
      "2024-11-13 14:52:40,182 - ERROR - XML parsing failed for 'r143': not well-formed (invalid token): line 4, column 4\n",
      "2024-11-13 14:52:40,185 - INFO - Retrying (3/3)...\n",
      "2024-11-13 14:52:40,186 - INFO - Inferred object name 'UGC' for file 'fits_collection/UGC_09618_S_2MASS_H.fits'.\n",
      "2024-11-13 14:52:40,197 - ERROR - Failed to resolve 'r143' after 3 attempts.\n",
      "2024-11-13 14:52:40,202 - WARNING - No resolved name found for 'r143'.\n",
      "\u001b[92m2024-11-13 14:52:40,232 - INFO - Successfully processed 'fits_collection/5GHz_n_f.fits'. Resolved using Unknown: 'Unknown'. MOC Details - Sky Fraction: 0.000000, Number of Cells: 1, Max Order: 10. Polygon: POLYGON ((84.72666731996323 -69.13945793625412, 84.7030312755644 -69.13945790413119, 84.70303591953338 -69.13104123761946, 84.72666285634249 -69.13104126973, 84.72666731996323 -69.13945793625412)).\u001b[0m\n",
      "2024-11-13 14:52:40,236 - ERROR - Unexpected error during NED query for 'UGC': The remote service returned the following error message.\n",
      "ERROR: The object name that you have submitted is not currently recognized by the NED name interpreter.\n",
      "2024-11-13 14:52:40,236 - INFO - Extracted RA_WCS: 84.71484934285212, DEC_WCS: -69.13524999240765 for fits_collection/5GHz_n_f.fits.\n",
      "2024-11-13 14:52:40,243 - INFO - Processing file: fits_collection/UGC_09618_2MASS_H.fits\n",
      "2024-11-13 14:52:40,332 - INFO - Inferred object name 'UGC' for file 'fits_collection/UGC_09618_2MASS_H.fits'.\n",
      "2024-11-13 14:52:40,335 - ERROR - Unexpected error during NED query for 'UGC': The remote service returned the following error message.\n",
      "ERROR: The object name that you have submitted is not currently recognized by the NED name interpreter.\n",
      "2024-11-13 14:52:40,501 - INFO - Resolved 'G351.632-0.459' to 'G351.632-0.459' using VizieR with name 'G351.632-0.459'.\n",
      "2024-11-13 14:52:40,505 - ERROR - Unexpected error during NED query for 'UGC': The remote service returned the following error message.\n",
      "ERROR: The object name that you have submitted is not currently recognized by the NED name interpreter.\n",
      "\u001b[92m2024-11-13 14:52:40,516 - INFO - Successfully processed 'fits_collection/G351.632-0.459_atlasgal.fits'. Resolved using VizieR: 'G351.632-0.459'. MOC Details - Sky Fraction: 0.000001, Number of Cells: 8, Max Order: 10. Polygon: POLYGON ((351.7458316825 -0.5191667704999999, 351.5408316415 -0.5191667704999999, 351.5408316415 -0.4058334145, 351.7458316825 -0.4058334145, 351.7458316825 -0.5191667704999999)).\u001b[0m\n",
      "2024-11-13 14:52:40,527 - INFO - Extracted GLON_WCS: 351.643331662, GLAT_WCS: -0.46250009249999996 for fits_collection/G351.632-0.459_atlasgal.fits.\n",
      "2024-11-13 14:52:40,529 - ERROR - Unexpected error during NED query for 'SNUGC': The remote service returned the following error message.\n",
      "ERROR: The object name that you have submitted is not currently recognized by the NED name interpreter.\n",
      "2024-11-13 14:52:40,535 - INFO - Processing file: fits_collection/SNaverage5-0.fits\n",
      "2024-11-13 14:52:40,548 - ERROR - Unexpected error during NED query for 'UGC': The remote service returned the following error message.\n",
      "ERROR: The object name that you have submitted is not currently recognized by the NED name interpreter.\n",
      "2024-11-13 14:52:40,565 - ERROR - Unexpected error during NED query for 'UGCSN': The remote service returned the following error message.\n",
      "ERROR: The object name that you have submitted is not currently recognized by the NED name interpreter.\n",
      "2024-11-13 14:52:40,576 - ERROR - Unexpected error during NED query for 'SNUGC': The remote service returned the following error message.\n",
      "ERROR: The object name that you have submitted is not currently recognized by the NED name interpreter.\n",
      "2024-11-13 14:52:40,577 - ERROR - Unexpected error during NED query for 'SNR1987A': The remote service returned the following error message.\n",
      "ERROR: The object name that you have submitted is not currently recognized by the NED name interpreter.\n",
      "2024-11-13 14:52:40,600 - ERROR - Unexpected error during NED query for 'UGCSN': The remote service returned the following error message.\n",
      "ERROR: The object name that you have submitted is not currently recognized by the NED name interpreter.\n",
      "2024-11-13 14:52:40,948 - INFO - Resolved 'G327.617-0.364' to 'G327.617-0.364' using VizieR with name 'G327.617-0.364'.\n",
      "2024-11-13 14:52:40,949 - ERROR - XML parsing failed for 'UGC': not well-formed (invalid token): line 4, column 4\n",
      "2024-11-13 14:52:40,949 - ERROR - XML parsing failed for 'UGC': not well-formed (invalid token): line 4, column 4\n",
      "\u001b[92m2024-11-13 14:52:40,953 - INFO - Successfully processed 'fits_collection/G327.617-0.364_I4.fits'. Resolved using VizieR: 'G327.617-0.364'. MOC Details - Sky Fraction: 0.000001, Number of Cells: 11, Max Order: 10. Polygon: POLYGON ((327.7141602095 -0.4191667505, 327.5158268365 -0.4191667505, 327.5158268365 -0.3091667285, 327.7141602095 -0.3091667285, 327.7141602095 -0.4191667505)).\u001b[0m\n",
      "2024-11-13 14:52:40,958 - INFO - Retrying (1/3)...\n",
      "2024-11-13 14:52:40,961 - INFO - Retrying (1/3)...\n",
      "2024-11-13 14:52:40,962 - INFO - Extracted GLON_WCS: 327.614993523, GLAT_WCS: -0.3641667395 for fits_collection/G327.617-0.364_I4.fits.\n",
      "2024-11-13 14:52:40,979 - INFO - Processing file: fits_collection/2013.1.01292.S_SB_X4eb_GB_X4ec_MB_X4ed_2-38011_sci.spw0_1_2_3.cont.I.image.fits\n",
      "2024-11-13 14:52:40,999 - ERROR - Unexpected error during NED query for '2-38011': The remote service returned the following error message.\n",
      "ERROR: The object name that you have submitted is not currently recognized by the NED name interpreter.\n",
      "2024-11-13 14:52:41,047 - ERROR - Unexpected error during NED query for '2-38011': The remote service returned the following error message.\n",
      "ERROR: The object name that you have submitted is not currently recognized by the NED name interpreter.\n",
      "2024-11-13 14:52:41,056 - ERROR - XML parsing failed for 'UGC': not well-formed (invalid token): line 4, column 4\n",
      "2024-11-13 14:52:41,061 - INFO - Retrying (2/3)...\n",
      "2024-11-13 14:52:41,061 - ERROR - Unexpected error during NED query for 'SN2-38011': The remote service returned the following error message.\n",
      "ERROR: The object name that you have submitted is not currently recognized by the NED name interpreter.\n",
      "2024-11-13 14:52:41,065 - ERROR - XML parsing failed for 'UGC': not well-formed (invalid token): line 4, column 4\n",
      "2024-11-13 14:52:41,070 - INFO - Retrying (2/3)...\n",
      "2024-11-13 14:52:41,092 - ERROR - Unexpected error during NED query for '2-38011SN': The remote service returned the following error message.\n",
      "ERROR: The object name that you have submitted is not currently recognized by the NED name interpreter.\n",
      "2024-11-13 14:52:41,154 - ERROR - XML parsing failed for 'UGC': not well-formed (invalid token): line 4, column 4\n",
      "2024-11-13 14:52:41,156 - ERROR - XML parsing failed for 'UGC': not well-formed (invalid token): line 4, column 4\n",
      "2024-11-13 14:52:41,156 - INFO - Retrying (3/3)...\n",
      "2024-11-13 14:52:41,158 - INFO - Retrying (3/3)...\n",
      "2024-11-13 14:52:41,160 - ERROR - Failed to resolve 'UGC' after 3 attempts.\n",
      "2024-11-13 14:52:41,161 - ERROR - Failed to resolve 'UGC' after 3 attempts.\n",
      "2024-11-13 14:52:41,171 - WARNING - No resolved name found for 'UGC'.\n",
      "2024-11-13 14:52:41,173 - WARNING - No resolved name found for 'UGC'.\n",
      "\u001b[92m2024-11-13 14:52:41,177 - INFO - Successfully processed 'fits_collection/UGC_09618_S_2MASS_H.fits'. Resolved using Unknown: 'Unknown'. MOC Details - Sky Fraction: 0.000004, Number of Cells: 26, Max Order: 10. Polygon: POLYGON ((224.30832666152753 24.322796352792704, 224.14402273847247 24.322796352792704, 224.14363977003902 24.90445743723609, 224.308709629961 24.90445743723609, 224.30832666152753 24.322796352792704)).\u001b[0m\n",
      "2024-11-13 14:52:41,177 - ERROR - XML parsing failed for '2-38011': not well-formed (invalid token): line 4, column 4\n",
      "\u001b[92m2024-11-13 14:52:41,181 - INFO - Successfully processed 'fits_collection/UGC_09618_2MASS_H.fits'. Resolved using Unknown: 'Unknown'. MOC Details - Sky Fraction: 0.000004, Number of Cells: 26, Max Order: 10. Polygon: POLYGON ((224.30832666152753 24.322796352792704, 224.14402273847247 24.322796352792704, 224.14363977003902 24.90445743723609, 224.308709629961 24.90445743723609, 224.30832666152753 24.322796352792704)).\u001b[0m\n",
      "2024-11-13 14:52:41,182 - INFO - Extracted RA_WCS: 224.2261747, DEC_WCS: 24.61364929999999 for fits_collection/UGC_09618_S_2MASS_H.fits.\n",
      "2024-11-13 14:52:41,186 - INFO - Retrying (1/3)...\n",
      "2024-11-13 14:52:41,195 - INFO - Extracted RA_WCS: 224.2261747, DEC_WCS: 24.61364929999999 for fits_collection/UGC_09618_2MASS_H.fits.\n",
      "2024-11-13 14:52:41,201 - INFO - Processing file: fits_collection/N2.20100426.52760.fits\n",
      "2024-11-13 14:52:41,207 - INFO - Processing file: fits_collection/NGC_4486_MIPS_M1.fits\n",
      "2024-11-13 14:52:41,235 - ERROR - Unexpected error during NED query for 'VIRGO-1': The remote service returned the following error message.\n",
      "ERROR: The object name that you have submitted is not currently recognized by the NED name interpreter.\n",
      "2024-11-13 14:52:41,245 - ERROR - Unexpected error during NED query for '022 P9870': The remote service returned the following error message.\n",
      "ERROR: The object name that you have submitted is not currently recognized by the NED name interpreter.\n",
      "2024-11-13 14:52:41,255 - ERROR - Unexpected error during NED query for 'VIRGO-1': The remote service returned the following error message.\n",
      "ERROR: The object name that you have submitted is not currently recognized by the NED name interpreter.\n",
      "2024-11-13 14:52:41,258 - ERROR - Unexpected error during NED query for '022P9870': The remote service returned the following error message.\n",
      "ERROR: The object name that you have submitted is not currently recognized by the NED name interpreter.\n",
      "2024-11-13 14:52:41,278 - ERROR - Unexpected error during NED query for 'SNVIRGO-1': The remote service returned the following error message.\n",
      "ERROR: The object name that you have submitted is not currently recognized by the NED name interpreter.\n",
      "2024-11-13 14:52:41,279 - ERROR - Unexpected error during NED query for 'SN022 P9870': The remote service returned the following error message.\n",
      "ERROR: The object name that you have submitted is not currently recognized by the NED name interpreter.\n",
      "2024-11-13 14:52:41,279 - ERROR - XML parsing failed for '2-38011': not well-formed (invalid token): line 4, column 4\n",
      "2024-11-13 14:52:41,284 - INFO - Retrying (2/3)...\n",
      "2024-11-13 14:52:41,295 - ERROR - Unexpected error during NED query for 'VIRGO-1SN': The remote service returned the following error message.\n",
      "ERROR: The object name that you have submitted is not currently recognized by the NED name interpreter.\n",
      "2024-11-13 14:52:41,298 - ERROR - Unexpected error during NED query for '022 P9870SN': The remote service returned the following error message.\n",
      "ERROR: The object name that you have submitted is not currently recognized by the NED name interpreter.\n",
      "2024-11-13 14:52:41,368 - ERROR - XML parsing failed for '2-38011': not well-formed (invalid token): line 4, column 4\n",
      "2024-11-13 14:52:41,370 - INFO - Retrying (3/3)...\n",
      "2024-11-13 14:52:41,372 - ERROR - Failed to resolve '2-38011' after 3 attempts.\n",
      "2024-11-13 14:52:41,378 - WARNING - No resolved name found for '2-38011'.\n",
      "\u001b[92m2024-11-13 14:52:41,383 - INFO - Successfully processed 'fits_collection/2013.1.01292.S_SB_X4eb_GB_X4ec_MB_X4ed_2-38011_sci.spw0_1_2_3.cont.I.image.fits'. Resolved using Unknown: 'Unknown'. MOC Details - Sky Fraction: 0.000000, Number of Cells: 2, Max Order: 10. Polygon: POLYGON ((150.1150155371495 2.5204941600668986, 150.10675754799556 2.520494160163891, 150.10675752187876 2.528744160170992, 150.11501556346047 2.5287441600740106, 150.1150155371495 2.5204941600668986)).\u001b[0m\n",
      "2024-11-13 14:52:41,385 - ERROR - XML parsing failed for 'VIRGO-1': not well-formed (invalid token): line 4, column 4\n",
      "2024-11-13 14:52:41,387 - ERROR - XML parsing failed for '022 P9870': not well-formed (invalid token): line 4, column 4\n",
      "2024-11-13 14:52:41,389 - INFO - Extracted RA_WCS: 150.11088654262102, DEC_WCS: 2.524619166666135 for fits_collection/2013.1.01292.S_SB_X4eb_GB_X4ec_MB_X4ed_2-38011_sci.spw0_1_2_3.cont.I.image.fits.\n",
      "2024-11-13 14:52:41,390 - INFO - Retrying (1/3)...\n",
      "2024-11-13 14:52:41,395 - INFO - Retrying (1/3)...\n",
      "2024-11-13 14:52:41,402 - INFO - Processing file: fits_collection/av_galcen_2mass.fits\n",
      "2024-11-13 14:52:41,962 - INFO - Resolved 'SNR1987A' to 'SNR1987A' using VizieR with name 'SNR1987A'.\n",
      "2024-11-13 14:52:42,070 - ERROR - XML parsing failed for 'VIRGO-1': not well-formed (invalid token): line 4, column 4\n",
      "2024-11-13 14:52:42,586 - INFO - Resolved 'SNR1987A' to 'SNR1987A' using VizieR with name 'SNR1987A'.\n",
      "\u001b[92m2024-11-13 14:52:42,600 - INFO - Successfully processed 'fits_collection/SN1987A_cut_35_smHB.fits'. Resolved using VizieR: 'SNR1987A'. MOC Details - Sky Fraction: 0.000000, Number of Cells: 3, Max Order: 10. Polygon: POLYGON ((83.98078838261291 -69.31003927205, 83.75255161738708 -69.31003927205, 83.75297519652439 -69.22940072795001, 83.98036480347561 -69.22940072795001, 83.98078838261291 -69.31003927205)).\u001b[0m\n",
      "2024-11-13 14:52:42,601 - INFO - Retrying (2/3)...\n",
      "\u001b[92m2024-11-13 14:52:42,612 - INFO - Successfully processed 'fits_collection/SNaverage5-0.fits'. Resolved using VizieR: 'SNR1987A'. MOC Details - Sky Fraction: 0.000000, Number of Cells: 3, Max Order: 10. Polygon: POLYGON ((83.96216077193111 -69.30305555555553, 83.7723515009734 -69.30305555555553, 83.7726428162207 -69.2359722222222, 83.96186581524327 -69.2359722222222, 83.96216077193111 -69.30305555555553)).\u001b[0m\n",
      "2024-11-13 14:52:42,612 - INFO - Inferred object name 'av' for file 'fits_collection/av_galcen_2mass.fits'.\n",
      "2024-11-13 14:52:42,613 - INFO - Extracted RA_WCS: 83.86667, DEC_WCS: -69.26972 for fits_collection/SN1987A_cut_35_smHB.fits.\n",
      "2024-11-13 14:52:42,614 - INFO - Extracted RA_WCS: 83.86725522458315, DEC_WCS: -69.26951388888885 for fits_collection/SNaverage5-0.fits.\n",
      "2024-11-13 14:52:42,616 - INFO - Processing file: fits_collection/id12_GAL-Survey-GC.fpsf.fits\n",
      "2024-11-13 14:52:42,619 - INFO - Processing file: fits_collection/SN1987A_87_smHB.fits\n",
      "2024-11-13 14:52:42,620 - ERROR - Unexpected error during NED query for 'av': The remote service returned the following error message.\n",
      "ERROR: The object name that you have submitted is not currently recognized by the NED name interpreter.\n",
      "2024-11-13 14:52:42,621 - INFO - Inferred object name 'id12' for file 'fits_collection/id12_GAL-Survey-GC.fpsf.fits'.\n",
      "2024-11-13 14:52:42,623 - ERROR - XML parsing failed for '022 P9870': not well-formed (invalid token): line 4, column 4\n",
      "2024-11-13 14:52:42,626 - INFO - Resolved 'sn1987a' to 'SN 1987A' using Simbad with name 'sn1987a'.\n",
      "2024-11-13 14:52:42,629 - INFO - Retrying (2/3)...\n",
      "2024-11-13 14:52:42,644 - ERROR - Unexpected error during NED query for 'id12': The remote service returned the following error message.\n",
      "ERROR: The object name that you have submitted is not currently recognized by the NED name interpreter.\n",
      "\u001b[92m2024-11-13 14:52:42,646 - INFO - Successfully processed 'fits_collection/SN1987A_87_smHB.fits'. Resolved using Simbad: 'SN 1987A'. MOC Details - Sky Fraction: 0.000004, Number of Cells: 21, Max Order: 10. Polygon: POLYGON ((84.3173092857228 -69.45067849200001, 83.4160307142772 -69.45067849200001, 83.42348958848474 -69.088761508, 84.30985041151526 -69.088761508, 84.3173092857228 -69.45067849200001)).\u001b[0m\n",
      "2024-11-13 14:52:42,647 - ERROR - Unexpected error during NED query for 'av': The remote service returned the following error message.\n",
      "ERROR: The object name that you have submitted is not currently recognized by the NED name interpreter.\n",
      "2024-11-13 14:52:42,650 - INFO - Extracted RA_WCS: 83.86667, DEC_WCS: -69.26972 for fits_collection/SN1987A_87_smHB.fits.\n",
      "2024-11-13 14:52:42,653 - ERROR - Unexpected error during NED query for 'id12': The remote service returned the following error message.\n",
      "ERROR: The object name that you have submitted is not currently recognized by the NED name interpreter.\n",
      "2024-11-13 14:52:42,654 - INFO - Processing file: fits_collection/av_galcen_spitzer.fits\n",
      "2024-11-13 14:52:42,657 - ERROR - Unexpected error during NED query for 'SNav': The remote service returned the following error message.\n",
      "ERROR: The object name that you have submitted is not currently recognized by the NED name interpreter.\n",
      "2024-11-13 14:52:42,662 - ERROR - Unexpected error during NED query for 'SNid12': The remote service returned the following error message.\n",
      "ERROR: The object name that you have submitted is not currently recognized by the NED name interpreter.\n",
      "2024-11-13 14:52:42,663 - INFO - Inferred object name 'av' for file 'fits_collection/av_galcen_spitzer.fits'.\n",
      "2024-11-13 14:52:42,666 - ERROR - Unexpected error during NED query for 'avSN': The remote service returned the following error message.\n",
      "ERROR: The object name that you have submitted is not currently recognized by the NED name interpreter.\n",
      "2024-11-13 14:52:42,674 - ERROR - Unexpected error during NED query for 'av': The remote service returned the following error message.\n",
      "ERROR: The object name that you have submitted is not currently recognized by the NED name interpreter.\n",
      "2024-11-13 14:52:42,674 - ERROR - Unexpected error during NED query for 'id12SN': The remote service returned the following error message.\n",
      "ERROR: The object name that you have submitted is not currently recognized by the NED name interpreter.\n",
      "2024-11-13 14:52:42,679 - ERROR - Unexpected error during NED query for 'av': The remote service returned the following error message.\n",
      "ERROR: The object name that you have submitted is not currently recognized by the NED name interpreter.\n",
      "2024-11-13 14:52:42,684 - ERROR - Unexpected error during NED query for 'SNav': The remote service returned the following error message.\n",
      "ERROR: The object name that you have submitted is not currently recognized by the NED name interpreter.\n",
      "2024-11-13 14:52:42,688 - ERROR - Unexpected error during NED query for 'avSN': The remote service returned the following error message.\n",
      "ERROR: The object name that you have submitted is not currently recognized by the NED name interpreter.\n",
      "2024-11-13 14:52:42,688 - ERROR - XML parsing failed for 'VIRGO-1': not well-formed (invalid token): line 4, column 4\n",
      "2024-11-13 14:52:42,690 - INFO - Retrying (3/3)...\n",
      "2024-11-13 14:52:42,690 - ERROR - Failed to resolve 'VIRGO-1' after 3 attempts.\n",
      "2024-11-13 14:52:42,691 - WARNING - No resolved name found for 'VIRGO-1'.\n",
      "\u001b[92m2024-11-13 14:52:42,697 - INFO - Successfully processed 'fits_collection/NGC_4486_MIPS_M1.fits'. Resolved using Unknown: 'Unknown'. MOC Details - Sky Fraction: 0.000018, Number of Cells: 90, Max Order: 10. Polygon: POLYGON ((187.47777580413705 11.471189399348724, 187.2141455382065 11.57841734224368, 188.01807617563932 13.463669558462998, 188.28324439567785 13.355678936359176, 187.47777580413705 11.471189399348724)).\u001b[0m\n",
      "2024-11-13 14:52:42,698 - INFO - Extracted RA_WCS: 187.74691322832936, DEC_WCS: 12.467659296574459 for fits_collection/NGC_4486_MIPS_M1.fits.\n",
      "2024-11-13 14:52:42,698 - INFO - Processing file: fits_collection/2013.1.00034.S_SB_X5_GB_X6_MB_X7_midz_cell10_25342_sci.spw0_1_2_3.cont.I.image.fits\n",
      "2024-11-13 14:52:42,703 - ERROR - Unexpected error during NED query for 'midz_cell10_25342': The remote service returned the following error message.\n",
      "ERROR: The object name that you have submitted is not currently recognized by the NED name interpreter.\n",
      "2024-11-13 14:52:42,708 - ERROR - Unexpected error during NED query for 'midz_cell10_25342': The remote service returned the following error message.\n",
      "ERROR: The object name that you have submitted is not currently recognized by the NED name interpreter.\n",
      "2024-11-13 14:52:42,712 - ERROR - Unexpected error during NED query for 'SNmidz_cell10_25342': The remote service returned the following error message.\n",
      "ERROR: The object name that you have submitted is not currently recognized by the NED name interpreter.\n",
      "2024-11-13 14:52:42,718 - ERROR - Unexpected error during NED query for 'midz_cell10_25342SN': The remote service returned the following error message.\n",
      "ERROR: The object name that you have submitted is not currently recognized by the NED name interpreter.\n",
      "2024-11-13 14:52:42,721 - ERROR - XML parsing failed for '022 P9870': not well-formed (invalid token): line 4, column 4\n",
      "2024-11-13 14:52:42,721 - INFO - Retrying (3/3)...\n",
      "2024-11-13 14:52:42,721 - ERROR - Failed to resolve '022 P9870' after 3 attempts.\n",
      "2024-11-13 14:52:42,722 - WARNING - No resolved name found for '022 P9870'.\n",
      "\u001b[92m2024-11-13 14:52:42,732 - INFO - Successfully processed 'fits_collection/N2.20100426.52760.fits'. Resolved using Unknown: 'Unknown'. MOC Details - Sky Fraction: 0.000000, Number of Cells: 1, Max Order: 10. Polygon: POLYGON ((245.48389331567262 -20.72286080192529, 245.48238002853103 -20.722854576681225, 245.48238669139835 -20.72143919479691, 245.48389996439798 -20.7214454199828, 245.48389331567262 -20.72286080192529)).\u001b[0m\n",
      "2024-11-13 14:52:42,732 - INFO - Extracted RA_WCS: 245.48314, DEC_WCS: -20.72215 for fits_collection/N2.20100426.52760.fits.\n",
      "2024-11-13 14:52:42,748 - ERROR - XML parsing failed for 'av': not well-formed (invalid token): line 4, column 4\n",
      "2024-11-13 14:52:42,748 - INFO - Retrying (1/3)...\n",
      "2024-11-13 14:52:42,750 - ERROR - XML parsing failed for 'id12': not well-formed (invalid token): line 4, column 4\n",
      "2024-11-13 14:52:42,750 - INFO - Retrying (1/3)...\n",
      "2024-11-13 14:52:42,764 - ERROR - XML parsing failed for 'av': not well-formed (invalid token): line 4, column 4\n",
      "2024-11-13 14:52:42,764 - INFO - Retrying (1/3)...\n",
      "2024-11-13 14:52:42,785 - ERROR - XML parsing failed for 'midz_cell10_25342': not well-formed (invalid token): line 4, column 4\n",
      "2024-11-13 14:52:42,785 - INFO - Retrying (1/3)...\n",
      "2024-11-13 14:52:42,813 - ERROR - XML parsing failed for 'av': not well-formed (invalid token): line 4, column 4\n",
      "2024-11-13 14:52:42,813 - ERROR - XML parsing failed for 'id12': not well-formed (invalid token): line 4, column 4\n",
      "2024-11-13 14:52:42,813 - INFO - Retrying (2/3)...\n",
      "2024-11-13 14:52:42,814 - INFO - Retrying (2/3)...\n",
      "2024-11-13 14:52:42,841 - ERROR - XML parsing failed for 'av': not well-formed (invalid token): line 4, column 4\n",
      "2024-11-13 14:52:42,841 - INFO - Retrying (2/3)...\n",
      "2024-11-13 14:52:42,854 - ERROR - XML parsing failed for 'midz_cell10_25342': not well-formed (invalid token): line 4, column 4\n",
      "2024-11-13 14:52:42,854 - INFO - Retrying (2/3)...\n",
      "2024-11-13 14:52:42,888 - ERROR - XML parsing failed for 'av': not well-formed (invalid token): line 4, column 4\n",
      "2024-11-13 14:52:42,889 - INFO - Retrying (3/3)...\n",
      "2024-11-13 14:52:42,889 - ERROR - Failed to resolve 'av' after 3 attempts.\n",
      "2024-11-13 14:52:42,890 - WARNING - No resolved name found for 'av'.\n",
      "2024-11-13 14:52:42,890 - ERROR - XML parsing failed for 'id12': not well-formed (invalid token): line 4, column 4\n",
      "\u001b[92m2024-11-13 14:52:42,894 - INFO - Successfully processed 'fits_collection/av_galcen_2mass.fits'. Resolved using Unknown: 'Unknown'. MOC Details - Sky Fraction: 0.000169, Number of Cells: 255, Max Order: 10. Polygon: POLYGON ((267.78736491517896 -30.278549885775647, 265.00936689128497 -30.278142689934317, 265.0460054752501 -27.546134398469633, 267.7517289947569 -27.546498168041428, 267.78736491517896 -30.278549885775647)).\u001b[0m\n",
      "2024-11-13 14:52:42,894 - INFO - Retrying (3/3)...\n",
      "2024-11-13 14:52:42,895 - INFO - Extracted RA_WCS: 266.3986089730605, DEC_WCS: -28.91926301125171 for fits_collection/av_galcen_2mass.fits.\n",
      "2024-11-13 14:52:42,895 - ERROR - Failed to resolve 'id12' after 3 attempts.\n",
      "2024-11-13 14:52:42,896 - WARNING - No resolved name found for 'id12'.\n",
      "\u001b[92m2024-11-13 14:52:42,904 - INFO - Successfully processed 'fits_collection/id12_GAL-Survey-GC.fpsf.fits'. Resolved using Unknown: 'Unknown'. MOC Details - Sky Fraction: 0.067794, Number of Cells: 4034, Max Order: 10. Polygon: POLYGON ((34.933335155456 -17.933334268736, 324.9999981744 -17.933334268736, 324.9999981744 18.00000093888, 34.933335155456 18.00000093888, 34.933335155456 -17.933334268736)).\u001b[0m\n",
      "2024-11-13 14:52:42,905 - INFO - Extracted GLON_WCS: 359.966666664928, GLAT_WCS: 0.033333335072 for fits_collection/id12_GAL-Survey-GC.fpsf.fits.\n",
      "2024-11-13 14:52:42,912 - ERROR - XML parsing failed for 'av': not well-formed (invalid token): line 4, column 4\n",
      "2024-11-13 14:52:42,913 - INFO - Retrying (3/3)...\n",
      "2024-11-13 14:52:42,913 - ERROR - Failed to resolve 'av' after 3 attempts.\n",
      "2024-11-13 14:52:42,913 - WARNING - No resolved name found for 'av'.\n",
      "\u001b[92m2024-11-13 14:52:42,916 - INFO - Successfully processed 'fits_collection/av_galcen_spitzer.fits'. Resolved using Unknown: 'Unknown'. MOC Details - Sky Fraction: 0.000166, Number of Cells: 229, Max Order: 10. Polygon: POLYGON ((267.78718161103103 -30.190475586624736, 265.0116341916512 -30.19006981604887, 265.04727937434296 -27.524670707324933, 267.752511907322 -27.525034154695774, 267.78718161103103 -30.190475586624736)).\u001b[0m\n",
      "2024-11-13 14:52:42,916 - ERROR - XML parsing failed for 'midz_cell10_25342': not well-formed (invalid token): line 4, column 4\n",
      "2024-11-13 14:52:42,917 - INFO - Extracted RA_WCS: 266.3996440174536, DEC_WCS: -28.864479014275368 for fits_collection/av_galcen_spitzer.fits.\n",
      "2024-11-13 14:52:42,917 - INFO - Retrying (3/3)...\n",
      "2024-11-13 14:52:42,917 - ERROR - Failed to resolve 'midz_cell10_25342' after 3 attempts.\n",
      "2024-11-13 14:52:42,918 - WARNING - No resolved name found for 'midz_cell10_25342'.\n",
      "\u001b[92m2024-11-13 14:52:42,922 - INFO - Successfully processed 'fits_collection/2013.1.00034.S_SB_X5_GB_X6_MB_X7_midz_cell10_25342_sci.spw0_1_2_3.cont.I.image.fits'. Resolved using Unknown: 'Unknown'. MOC Details - Sky Fraction: 0.000000, Number of Cells: 1, Max Order: 10. Polygon: POLYGON ((149.6574563920478 1.7191108290945414, 149.64945278969537 1.7191108291645532, 149.6494527729563 1.7271108291710382, 149.65745640892698 1.727110829101036, 149.6574563920478 1.7191108290945414)).\u001b[0m\n",
      "2024-11-13 14:52:42,922 - INFO - Extracted RA_WCS: 149.65345459090653, DEC_WCS: 1.7231108333332557 for fits_collection/2013.1.00034.S_SB_X5_GB_X6_MB_X7_midz_cell10_25342_sci.spw0_1_2_3.cont.I.image.fits.\n",
      "2024-11-13 14:52:42,929 - INFO - Missing values after homogenization:\n",
      "FITS_File            0\n",
      "Polygon              0\n",
      "MOC                  0\n",
      "Polygon_Coords       0\n",
      "RA_WCS               4\n",
      "DEC_WCS              4\n",
      "Coordinate_Frame     0\n",
      "NAXIS                0\n",
      "NAXIS1               0\n",
      "NAXIS2               0\n",
      "OBJECT               8\n",
      "RA                  15\n",
      "DEC                 15\n",
      "RADESYS              0\n",
      "DATE-OBS            13\n",
      "MJD-OBS             15\n",
      "EXPTIME             13\n",
      "INSTRUME            11\n",
      "TELESCOP             8\n",
      "JD                  16\n",
      "Resolved_Object      0\n",
      "GLON_WCS            12\n",
      "GLAT_WCS            12\n",
      "NAXIS3              13\n",
      "NAXIS4              13\n",
      "dtype: int64\n"
     ]
    }
   ],
   "source": [
    "# Instantiate FITSProcessor with desired number of workers\n",
    "processor = FITSProcessor(max_workers=5)\n",
    "\n",
    "# Process the FITS directory\n",
    "metadata_df = processor.process_fits_directory_parallel(fits_directory)\n"
   ]
  },
  {
   "cell_type": "code",
   "execution_count": 5,
   "metadata": {},
   "outputs": [
    {
     "name": "stderr",
     "output_type": "stream",
     "text": [
      "2024-11-13 14:52:42,947 - INFO - Metadata DataFrame describe:                       FITS_File  \\\n",
      "0  G351.702+0.672_atlasgal.fits   \n",
      "1                 5GHz_n_f.fits   \n",
      "2  G351.632-0.459_atlasgal.fits   \n",
      "3        G327.617-0.364_I4.fits   \n",
      "4      UGC_09618_S_2MASS_H.fits   \n",
      "\n",
      "                                             Polygon  \\\n",
      "0  POLYGON ((351.8408317015 0.6008334535, 351.552...   \n",
      "1  POLYGON ((84.72666731996323 -69.13945793625412...   \n",
      "2  POLYGON ((351.7458316825 -0.5191667704999999, ...   \n",
      "3  POLYGON ((327.7141602095 -0.4191667505, 327.51...   \n",
      "4  POLYGON ((224.30832666152753 24.32279635279270...   \n",
      "\n",
      "                                                 MOC  \\\n",
      "0  9/2717291 2717294 10/10869158-10869159 1086916...   \n",
      "1                                         10/8472269   \n",
      "2  9/2716914-2716915 10/10867613 10867615 1086765...   \n",
      "3  9/2676076 10/10704293-10704295 10704300-107043...   \n",
      "4  9/575820 575822-575823 575845 575856 575858-57...   \n",
      "\n",
      "                                      Polygon_Coords      RA_WCS    DEC_WCS  \\\n",
      "0  [[351.8408317015, 0.6008334535], [351.55249831...         NaN        NaN   \n",
      "1  [[84.72666731996323, -69.13945793625412], [84....   84.714849 -69.135250   \n",
      "2  [[351.7458316825, -0.5191667704999999], [351.5...         NaN        NaN   \n",
      "3  [[327.7141602095, -0.41916675049999996], [327....         NaN        NaN   \n",
      "4  [[224.30832666152753, 24.322796352792704], [22...  224.226175  24.613649   \n",
      "\n",
      "  Coordinate_Frame  NAXIS  NAXIS1  NAXIS2  ... MJD-OBS  EXPTIME  INSTRUME  \\\n",
      "0         galactic      2     173      96  ...     NaN      NaN      None   \n",
      "1             icrs      4     101     101  ...     NaN      NaN      None   \n",
      "2         galactic      2     123      68  ...     NaN      NaN      None   \n",
      "3         galactic      2     119      66  ...     NaN      NaN      None   \n",
      "4             icrs      2     539    2094  ...     NaN      0.0      None   \n",
      "\n",
      "  TELESCOP  JD  Resolved_Object    GLON_WCS  GLAT_WCS NAXIS3  NAXIS4  \n",
      "0     None NaN          Unknown  351.696665  0.680833    NaN     NaN  \n",
      "1     ATCA NaN          Unknown         NaN       NaN    1.0     1.0  \n",
      "2     None NaN   G351.632-0.459  351.643332 -0.462500    NaN     NaN  \n",
      "3     None NaN   G327.617-0.364  327.614994 -0.364167    NaN     NaN  \n",
      "4     None NaN          Unknown         NaN       NaN    NaN     NaN  \n",
      "\n",
      "[5 rows x 25 columns]\n"
     ]
    }
   ],
   "source": [
    "# Show metadata_df content \n",
    "\n",
    "logger.info(f\"Metadata DataFrame describe: {metadata_df.head()}\")\n"
   ]
  },
  {
   "cell_type": "code",
   "execution_count": 6,
   "metadata": {},
   "outputs": [
    {
     "name": "stderr",
     "output_type": "stream",
     "text": [
      "2024-11-13 14:52:42,961 - INFO - Metadata successfully saved to test_metadata.csv.\n"
     ]
    }
   ],
   "source": [
    "# Save the extracted metadata to CSV\n",
    "save_metadata_to_csv(metadata_df, output_csv)\n"
   ]
  },
  {
   "cell_type": "code",
   "execution_count": 7,
   "metadata": {},
   "outputs": [
    {
     "name": "stderr",
     "output_type": "stream",
     "text": [
      "2024-11-13 14:52:42,971 - INFO - Metadata loaded from test_metadata.csv.\n"
     ]
    }
   ],
   "source": [
    "# Load the metadata from CSV\n",
    "metadata_loaded_df = load_metadata_from_csv(output_csv)"
   ]
  },
  {
   "cell_type": "code",
   "execution_count": 8,
   "metadata": {},
   "outputs": [
    {
     "name": "stderr",
     "output_type": "stream",
     "text": [
      "2024-11-13 14:52:42,977 - INFO - Testing plotting of MOCs and polygons.\n",
      "2024-11-13 14:52:42,980 - INFO - Plots will be saved to: test_plots\n",
      "2024-11-13 14:52:42,980 - INFO - No specific selection criteria provided. All FITS files will be plotted.\n",
      "2024-11-13 14:52:42,980 - INFO - Generating 2 plots.\n"
     ]
    },
    {
     "data": {
      "application/vnd.jupyter.widget-view+json": {
       "model_id": "3cf5b271183e49b8bd32d7cf259ba5b5",
       "version_major": 2,
       "version_minor": 0
      },
      "text/plain": [
       "Generating Plots:   0%|          | 0/2 [00:00<?, ?it/s]"
      ]
     },
     "metadata": {},
     "output_type": "display_data"
    },
    {
     "name": "stderr",
     "output_type": "stream",
     "text": [
      "2024-11-13 14:52:43,088 - INFO - Calling _reproject_full in non-dask mode\n",
      "2024-11-13 14:52:44,563 - INFO - Plot saved as G351.702+0.672_atlasgal.png\n",
      "2024-11-13 14:52:44,564 - INFO - Plot saved: test_plots/G351.702+0.672_atlasgal.png\n",
      "2024-11-13 14:52:44,624 - INFO - Calling _reproject_full in non-dask mode\n",
      "2024-11-13 14:52:44,625 - ERROR - Failed to reproject or plot FITS data: Number of dimensions in input and output WCS should match\n",
      "2024-11-13 14:52:45,006 - INFO - Plot saved as 5GHz_n_f.png\n",
      "2024-11-13 14:52:45,007 - INFO - Plot saved: test_plots/5GHz_n_f.png\n",
      "2024-11-13 14:52:45,008 - INFO - Finished plotting MOCs and polygons.\n"
     ]
    }
   ],
   "source": [
    "# Test plotting using plot_moc_and_polygon_from_dataset_notebook\n",
    "logger.info(\"Testing plotting of MOCs and polygons.\")\n",
    "\n",
    "try:\n",
    "    plot_moc_and_polygon_from_dataset_notebook(\n",
    "        metadata_df=metadata_loaded_df,\n",
    "        input_dir=fits_directory,\n",
    "        output_dir=plot_output_dir,\n",
    "        max_plots=2  # Limit to 5 plots for testing\n",
    "    )\n",
    "    logger.info(\"Finished plotting MOCs and polygons.\")\n",
    "except Exception as e:\n",
    "    logger.error(f\"Error occurred during plotting: {e}\")\n"
   ]
  },
  {
   "cell_type": "code",
   "execution_count": 9,
   "metadata": {},
   "outputs": [
    {
     "name": "stderr",
     "output_type": "stream",
     "text": [
      "2024-11-13 14:52:45,015 - INFO - Testing search by point: RA=150.0, Dec=2.2\n",
      "2024-11-13 14:52:45,023 - INFO - No FITS files found containing the specified point.\n"
     ]
    }
   ],
   "source": [
    "# Define a test point\n",
    "test_point = {\n",
    "    'ra': 150.0,  # Right Ascension in degrees\n",
    "    'dec': 2.2    # Declination in degrees\n",
    "}\n",
    "\n",
    "logger.info(f\"Testing search by point: RA={test_point['ra']}, Dec={test_point['dec']}\")\n",
    "\n",
    "# Perform the search\n",
    "matching_fits_by_point = search_fits_by_point(metadata_loaded_df, test_point['ra'], test_point['dec'])\n",
    "\n",
    "# Display results\n",
    "if not matching_fits_by_point.empty:\n",
    "    logger.info(f\"FITS files containing the point (RA={test_point['ra']}, Dec={test_point['dec']}):\")\n",
    "    display(matching_fits_by_point[['FITS_File', 'Resolved_Object']])\n",
    "else:\n",
    "    logger.info(\"No FITS files found containing the specified point.\")\n"
   ]
  },
  {
   "cell_type": "code",
   "execution_count": 10,
   "metadata": {},
   "outputs": [
    {
     "name": "stderr",
     "output_type": "stream",
     "text": [
      "2024-11-13 14:52:45,030 - INFO - Testing search by circular region: Center RA=270.0, Dec=-29, Radius=5 degrees\n",
      "2024-11-13 14:52:45,039 - INFO - FITS files intersecting the circular region (RA=270.0, Dec=-29, Radius=5 degrees):\n"
     ]
    },
    {
     "data": {
      "text/html": [
       "<div>\n",
       "<style scoped>\n",
       "    .dataframe tbody tr th:only-of-type {\n",
       "        vertical-align: middle;\n",
       "    }\n",
       "\n",
       "    .dataframe tbody tr th {\n",
       "        vertical-align: top;\n",
       "    }\n",
       "\n",
       "    .dataframe thead th {\n",
       "        text-align: right;\n",
       "    }\n",
       "</style>\n",
       "<table border=\"1\" class=\"dataframe\">\n",
       "  <thead>\n",
       "    <tr style=\"text-align: right;\">\n",
       "      <th></th>\n",
       "      <th>FITS_File</th>\n",
       "      <th>Resolved_Object</th>\n",
       "    </tr>\n",
       "  </thead>\n",
       "  <tbody>\n",
       "    <tr>\n",
       "      <th>12</th>\n",
       "      <td>av_galcen_2mass.fits</td>\n",
       "      <td>Unknown</td>\n",
       "    </tr>\n",
       "    <tr>\n",
       "      <th>13</th>\n",
       "      <td>id12_GAL-Survey-GC.fpsf.fits</td>\n",
       "      <td>Unknown</td>\n",
       "    </tr>\n",
       "    <tr>\n",
       "      <th>14</th>\n",
       "      <td>av_galcen_spitzer.fits</td>\n",
       "      <td>Unknown</td>\n",
       "    </tr>\n",
       "  </tbody>\n",
       "</table>\n",
       "</div>"
      ],
      "text/plain": [
       "                       FITS_File Resolved_Object\n",
       "12          av_galcen_2mass.fits         Unknown\n",
       "13  id12_GAL-Survey-GC.fpsf.fits         Unknown\n",
       "14        av_galcen_spitzer.fits         Unknown"
      ]
     },
     "metadata": {},
     "output_type": "display_data"
    }
   ],
   "source": [
    "# Define a test circular region\n",
    "test_circle = {\n",
    "    'type': 'circle',\n",
    "    'center': (270.0, -29),  # Center RA and Dec in degrees\n",
    "    'radius': 5          # Radius in degrees\n",
    "}\n",
    "\n",
    "logger.info(f\"Testing search by circular region: Center RA={test_circle['center'][0]}, Dec={test_circle['center'][1]}, Radius={test_circle['radius']} degrees\")\n",
    "\n",
    "# Perform the search\n",
    "matching_fits_by_circle = search_fits_by_region(metadata_loaded_df, test_circle)\n",
    "\n",
    "# Display results\n",
    "if not matching_fits_by_circle.empty:\n",
    "    logger.info(f\"FITS files intersecting the circular region (RA={test_circle['center'][0]}, Dec={test_circle['center'][1]}, Radius={test_circle['radius']} degrees):\")\n",
    "    display(matching_fits_by_circle[['FITS_File', 'Resolved_Object']])\n",
    "else:\n",
    "    logger.info(\"No FITS files found intersecting the specified circular region.\")\n"
   ]
  },
  {
   "cell_type": "code",
   "execution_count": 11,
   "metadata": {},
   "outputs": [
    {
     "name": "stderr",
     "output_type": "stream",
     "text": [
      "2024-11-13 14:52:45,050 - INFO - Testing search by polygonal region with coordinates: [(149.0, 1.0), (151.0, 1.0), (151.0, 3.0), (149.0, 3.0)]\n",
      "2024-11-13 14:52:45,058 - INFO - FITS files intersecting the polygonal region:\n"
     ]
    },
    {
     "data": {
      "text/html": [
       "<div>\n",
       "<style scoped>\n",
       "    .dataframe tbody tr th:only-of-type {\n",
       "        vertical-align: middle;\n",
       "    }\n",
       "\n",
       "    .dataframe tbody tr th {\n",
       "        vertical-align: top;\n",
       "    }\n",
       "\n",
       "    .dataframe thead th {\n",
       "        text-align: right;\n",
       "    }\n",
       "</style>\n",
       "<table border=\"1\" class=\"dataframe\">\n",
       "  <thead>\n",
       "    <tr style=\"text-align: right;\">\n",
       "      <th></th>\n",
       "      <th>FITS_File</th>\n",
       "      <th>Resolved_Object</th>\n",
       "    </tr>\n",
       "  </thead>\n",
       "  <tbody>\n",
       "    <tr>\n",
       "      <th>6</th>\n",
       "      <td>2013.1.01292.S_SB_X4eb_GB_X4ec_MB_X4ed_2-38011...</td>\n",
       "      <td>Unknown</td>\n",
       "    </tr>\n",
       "    <tr>\n",
       "      <th>15</th>\n",
       "      <td>2013.1.00034.S_SB_X5_GB_X6_MB_X7_midz_cell10_2...</td>\n",
       "      <td>Unknown</td>\n",
       "    </tr>\n",
       "  </tbody>\n",
       "</table>\n",
       "</div>"
      ],
      "text/plain": [
       "                                            FITS_File Resolved_Object\n",
       "6   2013.1.01292.S_SB_X4eb_GB_X4ec_MB_X4ed_2-38011...         Unknown\n",
       "15  2013.1.00034.S_SB_X5_GB_X6_MB_X7_midz_cell10_2...         Unknown"
      ]
     },
     "metadata": {},
     "output_type": "display_data"
    }
   ],
   "source": [
    "# Define a test polygonal region\n",
    "test_polygon = {\n",
    "    'type': 'polygon',\n",
    "    'coordinates': [\n",
    "        (149.0, 1.0),\n",
    "        (151.0, 1.0),\n",
    "        (151.0, 3.0),\n",
    "        (149.0, 3.0)\n",
    "    ]\n",
    "}\n",
    "\n",
    "logger.info(f\"Testing search by polygonal region with coordinates: {test_polygon['coordinates']}\")\n",
    "\n",
    "# Perform the search\n",
    "matching_fits_by_polygon = search_fits_by_region(metadata_loaded_df, test_polygon)\n",
    "\n",
    "# Display results\n",
    "if not matching_fits_by_polygon.empty:\n",
    "    logger.info(\"FITS files intersecting the polygonal region:\")\n",
    "    display(matching_fits_by_polygon[['FITS_File', 'Resolved_Object']])\n",
    "else:\n",
    "    logger.info(\"No FITS files found intersecting the specified polygonal region.\")\n"
   ]
  },
  {
   "cell_type": "code",
   "execution_count": 12,
   "metadata": {},
   "outputs": [
    {
     "name": "stderr",
     "output_type": "stream",
     "text": [
      "2024-11-13 14:52:45,065 - INFO - Plots will be saved to: search_plots\n",
      "2024-11-13 14:52:45,075 - INFO - Generating plots for 3 matching FITS files.\n"
     ]
    },
    {
     "data": {
      "application/vnd.jupyter.widget-view+json": {
       "model_id": "50b077917eeb4d7593696b13c1e6c49b",
       "version_major": 2,
       "version_minor": 0
      },
      "text/plain": [
       "Plotting FITS Coverages:   0%|          | 0/3 [00:00<?, ?it/s]"
      ]
     },
     "metadata": {},
     "output_type": "display_data"
    },
    {
     "name": "stderr",
     "output_type": "stream",
     "text": [
      "2024-11-13 14:52:45,099 - ERROR - Failed to process FITS file 'id12_GAL-Survey-GC.fpsf.fits': 'MOC' object has no attribute 'to_icrs'\n",
      "2024-11-13 14:52:45,612 - INFO - Search region and matching FITS coverages plotted and saved to 'search_plots/search_region_and_fits.png'\n"
     ]
    },
    {
     "data": {
      "image/png": "[encoded data removed]",
      "text/plain": [
       "<Figure size 1200x600 with 1 Axes>"
      ]
     },
     "metadata": {},
     "output_type": "display_data"
    }
   ],
   "source": [
    "# Define a search region (e.g., a circle)\n",
    "search_region = {\n",
    "    'type': 'circle',\n",
    "    'center': (270.0, -29),  # RA=150.0°, Dec=2.2°\n",
    "    'radius': 10           # 5 degrees radius\n",
    "}\n",
    "\n",
    "# Call the plotting function\n",
    "plot_search_region_and_find_fits(\n",
    "    metadata_df=metadata_df,\n",
    "    region=search_region,\n",
    "    input_dir='fits_collection',\n",
    "    output_dir='search_plots',\n",
    "    max_plots=10,\n",
    "    plot_search_region=True\n",
    ")"
   ]
  }
 ],
 "metadata": {
  "kernelspec": {
   "display_name": "OHP",
   "language": "python",
   "name": "python3"
  },
  "language_info": {
   "codemirror_mode": {
    "name": "ipython",
    "version": 3
   },
   "file_extension": ".py",
   "mimetype": "text/x-python",
   "name": "python",
   "nbconvert_exporter": "python",
   "pygments_lexer": "ipython3",
   "version": "3.12.5"
  }
 },
 "nbformat": 4,
 "nbformat_minor": 2
}
